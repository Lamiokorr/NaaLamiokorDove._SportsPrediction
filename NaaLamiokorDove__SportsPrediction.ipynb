{
  "cells": [
    {
      "cell_type": "code",
      "execution_count": 1,
      "metadata": {
        "id": "mLYvHQ1VPXvg"
      },
      "outputs": [],
      "source": [
        "# Importing of necessary Python libraries and features to be used in the code\n",
        "import pandas as pd\n",
        "import numpy as np\n",
        "import matplotlib.pyplot as plt\n",
        "from sklearn.pipeline import Pipeline\n",
        "from sklearn.preprocessing import LabelEncoder, OneHotEncoder\n",
        "from sklearn.impute import SimpleImputer\n",
        "from sklearn.preprocessing import StandardScaler\n",
        "from sklearn.model_selection import train_test_split, GridSearchCV, KFold\n",
        "from sklearn.metrics import accuracy_score\n",
        "from sklearn.metrics import mean_squared_error, mean_absolute_error, r2_score\n"
      ]
    },
    {
      "cell_type": "code",
      "execution_count": 2,
      "metadata": {
        "colab": {
          "base_uri": "https://localhost:8080/"
        },
        "id": "j2r2e6OqPiXo",
        "outputId": "8f2ec36e-42fd-404d-9ba1-bfc5d49f9943"
      },
      "outputs": [
        {
          "output_type": "stream",
          "name": "stdout",
          "text": [
            "Mounted at /content/drive\n"
          ]
        }
      ],
      "source": [
        "from google.colab import drive\n",
        "drive.mount('/content/drive')"
      ]
    },
    {
      "cell_type": "markdown",
      "metadata": {
        "id": "4PijpzV15_t8"
      },
      "source": [
        "**Loading of the datasets to be used for training**\n",
        "\n",
        "```\n",
        "\n",
        "```\n",
        "\n"
      ]
    },
    {
      "cell_type": "code",
      "execution_count": 5,
      "metadata": {
        "colab": {
          "base_uri": "https://localhost:8080/"
        },
        "id": "dnsv4ED4PoVO",
        "outputId": "193deecd-18af-426f-b354-4bc9344438da"
      },
      "outputs": [
        {
          "output_type": "stream",
          "name": "stderr",
          "text": [
            "<ipython-input-5-66edb1187e86>:1: DtypeWarning: Columns (108) have mixed types. Specify dtype option on import or set low_memory=False.\n",
            "  training_data = pd.read_csv(\"/content/drive/MyDrive/male_players (legacy).csv\" ,index_col = 0)\n"
          ]
        }
      ],
      "source": [
        "training_data = pd.read_csv(\"/content/drive/MyDrive/male_players (legacy).csv\" ,index_col = 0)"
      ]
    },
    {
      "cell_type": "markdown",
      "metadata": {
        "id": "h5acnnsx6JW5"
      },
      "source": [
        "**This gives a brief description of what the data entails**"
      ]
    },
    {
      "cell_type": "code",
      "execution_count": 6,
      "metadata": {
        "colab": {
          "base_uri": "https://localhost:8080/"
        },
        "id": "HVBv-JruP38j",
        "outputId": "e3956e40-ec15-4842-ec28-a38c510229f9"
      },
      "outputs": [
        {
          "output_type": "stream",
          "name": "stdout",
          "text": [
            "<class 'pandas.core.frame.DataFrame'>\n",
            "Index: 161583 entries, 158023 to 271608\n",
            "Columns: 109 entries, player_url to player_face_url\n",
            "dtypes: float64(18), int64(44), object(47)\n",
            "memory usage: 135.6+ MB\n"
          ]
        }
      ],
      "source": [
        "training_data.info()"
      ]
    },
    {
      "cell_type": "markdown",
      "metadata": {
        "id": "mDAJ-YZC6eMU"
      },
      "source": [
        "**Dropping unnecessary columns**"
      ]
    },
    {
      "cell_type": "code",
      "execution_count": 7,
      "metadata": {
        "id": "RYTt-u3tQCM0"
      },
      "outputs": [],
      "source": [
        "columns_to_drop = ['player_url','player_face_url','fifa_update_date','fifa_version']\n",
        "training_data = training_data.drop(columns_to_drop, axis=1 )\n"
      ]
    },
    {
      "cell_type": "markdown",
      "metadata": {
        "id": "0JDtxRwf-iOO"
      },
      "source": [
        ":**Displaying the numerical and categorical features**"
      ]
    },
    {
      "cell_type": "code",
      "execution_count": 8,
      "metadata": {
        "id": "QDXjxg7hSiN8"
      },
      "outputs": [],
      "source": [
        "num_cols = training_data.select_dtypes(include=['int64', 'float64']).columns\n",
        "cat_cols = training_data.select_dtypes(include=['object']).columns"
      ]
    },
    {
      "cell_type": "markdown",
      "metadata": {
        "id": "h8guVBmA-SwS"
      },
      "source": [
        "**Dropping columns with more than 30% threshold missing values in the training dataset**"
      ]
    },
    {
      "cell_type": "code",
      "execution_count": 9,
      "metadata": {
        "id": "xU6pb_BolqxE"
      },
      "outputs": [],
      "source": [
        "missing_percentage_train = training_data.isnull().sum() / len(training_data) * 100\n",
        "columns_to_drop_training_data = missing_percentage_train[missing_percentage_train > 30].index\n",
        "training_data.drop(columns_to_drop_training_data, axis=1, inplace=True)"
      ]
    },
    {
      "cell_type": "code",
      "execution_count": 10,
      "metadata": {
        "colab": {
          "base_uri": "https://localhost:8080/"
        },
        "id": "v_PxVIxNmNQA",
        "outputId": "92b1eb65-a377-4754-fdfe-422d090f0188"
      },
      "outputs": [
        {
          "output_type": "execute_result",
          "data": {
            "text/plain": [
              "Index(['club_loaned_from', 'nation_team_id', 'nation_position',\n",
              "       'nation_jersey_number', 'release_clause_eur', 'player_tags',\n",
              "       'player_traits', 'goalkeeping_speed'],\n",
              "      dtype='object')"
            ]
          },
          "metadata": {},
          "execution_count": 10
        }
      ],
      "source": [
        "columns_to_drop_training_data"
      ]
    },
    {
      "cell_type": "code",
      "execution_count": 11,
      "metadata": {
        "colab": {
          "base_uri": "https://localhost:8080/"
        },
        "id": "nTLbtxsfnBN8",
        "outputId": "4eded0c6-c8ed-4b70-ea01-f7f240965b09"
      },
      "outputs": [
        {
          "output_type": "stream",
          "name": "stdout",
          "text": [
            "<class 'pandas.core.frame.DataFrame'>\n",
            "Index: 161583 entries, 158023 to 271608\n",
            "Data columns (total 97 columns):\n",
            " #   Column                          Non-Null Count   Dtype  \n",
            "---  ------                          --------------   -----  \n",
            " 0   fifa_update                     161583 non-null  int64  \n",
            " 1   short_name                      161583 non-null  object \n",
            " 2   long_name                       161583 non-null  object \n",
            " 3   player_positions                161583 non-null  object \n",
            " 4   overall                         161583 non-null  int64  \n",
            " 5   potential                       161583 non-null  int64  \n",
            " 6   value_eur                       159530 non-null  float64\n",
            " 7   wage_eur                        159822 non-null  float64\n",
            " 8   age                             161583 non-null  int64  \n",
            " 9   dob                             161583 non-null  object \n",
            " 10  height_cm                       161583 non-null  int64  \n",
            " 11  weight_kg                       161583 non-null  int64  \n",
            " 12  league_id                       159810 non-null  float64\n",
            " 13  league_name                     159810 non-null  object \n",
            " 14  league_level                    158866 non-null  float64\n",
            " 15  club_team_id                    159810 non-null  float64\n",
            " 16  club_name                       159810 non-null  object \n",
            " 17  club_position                   159810 non-null  object \n",
            " 18  club_jersey_number              159810 non-null  float64\n",
            " 19  club_joined_date                150272 non-null  object \n",
            " 20  club_contract_valid_until_year  159810 non-null  float64\n",
            " 21  nationality_id                  161583 non-null  int64  \n",
            " 22  nationality_name                161583 non-null  object \n",
            " 23  preferred_foot                  161583 non-null  object \n",
            " 24  weak_foot                       161583 non-null  int64  \n",
            " 25  skill_moves                     161583 non-null  int64  \n",
            " 26  international_reputation        161583 non-null  int64  \n",
            " 27  work_rate                       161583 non-null  object \n",
            " 28  body_type                       161583 non-null  object \n",
            " 29  real_face                       161583 non-null  object \n",
            " 30  pace                            143614 non-null  float64\n",
            " 31  shooting                        143614 non-null  float64\n",
            " 32  passing                         143614 non-null  float64\n",
            " 33  dribbling                       143614 non-null  float64\n",
            " 34  defending                       143614 non-null  float64\n",
            " 35  physic                          143614 non-null  float64\n",
            " 36  attacking_crossing              161583 non-null  int64  \n",
            " 37  attacking_finishing             161583 non-null  int64  \n",
            " 38  attacking_heading_accuracy      161583 non-null  int64  \n",
            " 39  attacking_short_passing         161583 non-null  int64  \n",
            " 40  attacking_volleys               161583 non-null  int64  \n",
            " 41  skill_dribbling                 161583 non-null  int64  \n",
            " 42  skill_curve                     161583 non-null  int64  \n",
            " 43  skill_fk_accuracy               161583 non-null  int64  \n",
            " 44  skill_long_passing              161583 non-null  int64  \n",
            " 45  skill_ball_control              161583 non-null  int64  \n",
            " 46  movement_acceleration           161583 non-null  int64  \n",
            " 47  movement_sprint_speed           161583 non-null  int64  \n",
            " 48  movement_agility                161583 non-null  int64  \n",
            " 49  movement_reactions              161583 non-null  int64  \n",
            " 50  movement_balance                161583 non-null  int64  \n",
            " 51  power_shot_power                161583 non-null  int64  \n",
            " 52  power_jumping                   161583 non-null  int64  \n",
            " 53  power_stamina                   161583 non-null  int64  \n",
            " 54  power_strength                  161583 non-null  int64  \n",
            " 55  power_long_shots                161583 non-null  int64  \n",
            " 56  mentality_aggression            161583 non-null  int64  \n",
            " 57  mentality_interceptions         161583 non-null  int64  \n",
            " 58  mentality_positioning           161583 non-null  int64  \n",
            " 59  mentality_vision                161583 non-null  int64  \n",
            " 60  mentality_penalties             161583 non-null  int64  \n",
            " 61  mentality_composure             128722 non-null  float64\n",
            " 62  defending_marking_awareness     161583 non-null  int64  \n",
            " 63  defending_standing_tackle       161583 non-null  int64  \n",
            " 64  defending_sliding_tackle        161583 non-null  int64  \n",
            " 65  goalkeeping_diving              161583 non-null  int64  \n",
            " 66  goalkeeping_handling            161583 non-null  int64  \n",
            " 67  goalkeeping_kicking             161583 non-null  int64  \n",
            " 68  goalkeeping_positioning         161583 non-null  int64  \n",
            " 69  goalkeeping_reflexes            161583 non-null  int64  \n",
            " 70  ls                              161583 non-null  object \n",
            " 71  st                              161583 non-null  object \n",
            " 72  rs                              161583 non-null  object \n",
            " 73  lw                              161583 non-null  object \n",
            " 74  lf                              161583 non-null  object \n",
            " 75  cf                              161583 non-null  object \n",
            " 76  rf                              161583 non-null  object \n",
            " 77  rw                              161583 non-null  object \n",
            " 78  lam                             161583 non-null  object \n",
            " 79  cam                             161583 non-null  object \n",
            " 80  ram                             161583 non-null  object \n",
            " 81  lm                              161583 non-null  object \n",
            " 82  lcm                             161583 non-null  object \n",
            " 83  cm                              161583 non-null  object \n",
            " 84  rcm                             161583 non-null  object \n",
            " 85  rm                              161583 non-null  object \n",
            " 86  lwb                             161583 non-null  object \n",
            " 87  ldm                             161583 non-null  object \n",
            " 88  cdm                             161583 non-null  object \n",
            " 89  rdm                             161583 non-null  object \n",
            " 90  rwb                             161583 non-null  object \n",
            " 91  lb                              161583 non-null  object \n",
            " 92  lcb                             161583 non-null  object \n",
            " 93  cb                              161583 non-null  object \n",
            " 94  rcb                             161583 non-null  object \n",
            " 95  rb                              161583 non-null  object \n",
            " 96  gk                              161583 non-null  object \n",
            "dtypes: float64(14), int64(43), object(40)\n",
            "memory usage: 120.8+ MB\n"
          ]
        }
      ],
      "source": [
        "training_data.info()"
      ]
    },
    {
      "cell_type": "markdown",
      "metadata": {
        "id": "43-Ce89d_lCg"
      },
      "source": [
        "**Separating training data into numeric and categorical features**\n",
        "\n",
        "---\n",
        "\n"
      ]
    },
    {
      "cell_type": "code",
      "execution_count": 12,
      "metadata": {
        "id": "WCZkFZKXoHLk"
      },
      "outputs": [],
      "source": [
        "numeric_features_training_data = training_data.select_dtypes(include=['number'])\n",
        "categorical_features_training_data = training_data.select_dtypes(exclude=['number'])"
      ]
    },
    {
      "cell_type": "code",
      "execution_count": 13,
      "metadata": {
        "colab": {
          "base_uri": "https://localhost:8080/"
        },
        "id": "_RPYWPF5oU1F",
        "outputId": "29a87949-008f-478e-a6b6-bd3f1ea5b0bc"
      },
      "outputs": [
        {
          "output_type": "stream",
          "name": "stdout",
          "text": [
            "<class 'pandas.core.frame.DataFrame'>\n",
            "Index: 161583 entries, 158023 to 271608\n",
            "Data columns (total 57 columns):\n",
            " #   Column                          Non-Null Count   Dtype  \n",
            "---  ------                          --------------   -----  \n",
            " 0   fifa_update                     161583 non-null  int64  \n",
            " 1   overall                         161583 non-null  int64  \n",
            " 2   potential                       161583 non-null  int64  \n",
            " 3   value_eur                       159530 non-null  float64\n",
            " 4   wage_eur                        159822 non-null  float64\n",
            " 5   age                             161583 non-null  int64  \n",
            " 6   height_cm                       161583 non-null  int64  \n",
            " 7   weight_kg                       161583 non-null  int64  \n",
            " 8   league_id                       159810 non-null  float64\n",
            " 9   league_level                    158866 non-null  float64\n",
            " 10  club_team_id                    159810 non-null  float64\n",
            " 11  club_jersey_number              159810 non-null  float64\n",
            " 12  club_contract_valid_until_year  159810 non-null  float64\n",
            " 13  nationality_id                  161583 non-null  int64  \n",
            " 14  weak_foot                       161583 non-null  int64  \n",
            " 15  skill_moves                     161583 non-null  int64  \n",
            " 16  international_reputation        161583 non-null  int64  \n",
            " 17  pace                            143614 non-null  float64\n",
            " 18  shooting                        143614 non-null  float64\n",
            " 19  passing                         143614 non-null  float64\n",
            " 20  dribbling                       143614 non-null  float64\n",
            " 21  defending                       143614 non-null  float64\n",
            " 22  physic                          143614 non-null  float64\n",
            " 23  attacking_crossing              161583 non-null  int64  \n",
            " 24  attacking_finishing             161583 non-null  int64  \n",
            " 25  attacking_heading_accuracy      161583 non-null  int64  \n",
            " 26  attacking_short_passing         161583 non-null  int64  \n",
            " 27  attacking_volleys               161583 non-null  int64  \n",
            " 28  skill_dribbling                 161583 non-null  int64  \n",
            " 29  skill_curve                     161583 non-null  int64  \n",
            " 30  skill_fk_accuracy               161583 non-null  int64  \n",
            " 31  skill_long_passing              161583 non-null  int64  \n",
            " 32  skill_ball_control              161583 non-null  int64  \n",
            " 33  movement_acceleration           161583 non-null  int64  \n",
            " 34  movement_sprint_speed           161583 non-null  int64  \n",
            " 35  movement_agility                161583 non-null  int64  \n",
            " 36  movement_reactions              161583 non-null  int64  \n",
            " 37  movement_balance                161583 non-null  int64  \n",
            " 38  power_shot_power                161583 non-null  int64  \n",
            " 39  power_jumping                   161583 non-null  int64  \n",
            " 40  power_stamina                   161583 non-null  int64  \n",
            " 41  power_strength                  161583 non-null  int64  \n",
            " 42  power_long_shots                161583 non-null  int64  \n",
            " 43  mentality_aggression            161583 non-null  int64  \n",
            " 44  mentality_interceptions         161583 non-null  int64  \n",
            " 45  mentality_positioning           161583 non-null  int64  \n",
            " 46  mentality_vision                161583 non-null  int64  \n",
            " 47  mentality_penalties             161583 non-null  int64  \n",
            " 48  mentality_composure             128722 non-null  float64\n",
            " 49  defending_marking_awareness     161583 non-null  int64  \n",
            " 50  defending_standing_tackle       161583 non-null  int64  \n",
            " 51  defending_sliding_tackle        161583 non-null  int64  \n",
            " 52  goalkeeping_diving              161583 non-null  int64  \n",
            " 53  goalkeeping_handling            161583 non-null  int64  \n",
            " 54  goalkeeping_kicking             161583 non-null  int64  \n",
            " 55  goalkeeping_positioning         161583 non-null  int64  \n",
            " 56  goalkeeping_reflexes            161583 non-null  int64  \n",
            "dtypes: float64(14), int64(43)\n",
            "memory usage: 71.5 MB\n"
          ]
        }
      ],
      "source": [
        "numeric_features_training_data.info()"
      ]
    },
    {
      "cell_type": "code",
      "execution_count": 14,
      "metadata": {
        "colab": {
          "base_uri": "https://localhost:8080/"
        },
        "id": "nZMrj-Opopbj",
        "outputId": "568f2930-b65c-4308-ccc9-f5994c3be9a4"
      },
      "outputs": [
        {
          "output_type": "stream",
          "name": "stdout",
          "text": [
            "<class 'pandas.core.frame.DataFrame'>\n",
            "Index: 161583 entries, 158023 to 271608\n",
            "Data columns (total 40 columns):\n",
            " #   Column            Non-Null Count   Dtype \n",
            "---  ------            --------------   ----- \n",
            " 0   short_name        161583 non-null  object\n",
            " 1   long_name         161583 non-null  object\n",
            " 2   player_positions  161583 non-null  object\n",
            " 3   dob               161583 non-null  object\n",
            " 4   league_name       159810 non-null  object\n",
            " 5   club_name         159810 non-null  object\n",
            " 6   club_position     159810 non-null  object\n",
            " 7   club_joined_date  150272 non-null  object\n",
            " 8   nationality_name  161583 non-null  object\n",
            " 9   preferred_foot    161583 non-null  object\n",
            " 10  work_rate         161583 non-null  object\n",
            " 11  body_type         161583 non-null  object\n",
            " 12  real_face         161583 non-null  object\n",
            " 13  ls                161583 non-null  object\n",
            " 14  st                161583 non-null  object\n",
            " 15  rs                161583 non-null  object\n",
            " 16  lw                161583 non-null  object\n",
            " 17  lf                161583 non-null  object\n",
            " 18  cf                161583 non-null  object\n",
            " 19  rf                161583 non-null  object\n",
            " 20  rw                161583 non-null  object\n",
            " 21  lam               161583 non-null  object\n",
            " 22  cam               161583 non-null  object\n",
            " 23  ram               161583 non-null  object\n",
            " 24  lm                161583 non-null  object\n",
            " 25  lcm               161583 non-null  object\n",
            " 26  cm                161583 non-null  object\n",
            " 27  rcm               161583 non-null  object\n",
            " 28  rm                161583 non-null  object\n",
            " 29  lwb               161583 non-null  object\n",
            " 30  ldm               161583 non-null  object\n",
            " 31  cdm               161583 non-null  object\n",
            " 32  rdm               161583 non-null  object\n",
            " 33  rwb               161583 non-null  object\n",
            " 34  lb                161583 non-null  object\n",
            " 35  lcb               161583 non-null  object\n",
            " 36  cb                161583 non-null  object\n",
            " 37  rcb               161583 non-null  object\n",
            " 38  rb                161583 non-null  object\n",
            " 39  gk                161583 non-null  object\n",
            "dtypes: object(40)\n",
            "memory usage: 50.5+ MB\n"
          ]
        }
      ],
      "source": [
        "categorical_features_training_data.info()"
      ]
    },
    {
      "cell_type": "markdown",
      "metadata": {
        "id": "EdJ5ygnDAmJ7"
      },
      "source": [
        "**Using SimpleImputer to impute missing values for both numeric and categorical features in the training data**"
      ]
    },
    {
      "cell_type": "code",
      "execution_count": 15,
      "metadata": {
        "id": "wH6tNEb4pWi7"
      },
      "outputs": [],
      "source": [
        "numeric_imputer = SimpleImputer(strategy='mean')\n",
        "training_data[numeric_features_training_data.columns] = numeric_imputer.fit_transform(training_data[numeric_features_training_data.columns])\n",
        "\n",
        "categorical_imputer = SimpleImputer(strategy='most_frequent')\n",
        "training_data[categorical_features_training_data.columns] = categorical_imputer.fit_transform(training_data[categorical_features_training_data.columns])"
      ]
    },
    {
      "cell_type": "markdown",
      "metadata": {
        "id": "SGW4DMM_BFzk"
      },
      "source": [
        "**Encoding the categorical features in the columns with LabelEncoder**"
      ]
    },
    {
      "cell_type": "code",
      "execution_count": 17,
      "metadata": {
        "id": "tN9t8NPSrHgJ"
      },
      "outputs": [],
      "source": [
        "label_encoder = LabelEncoder()\n",
        "for column in categorical_features_training_data.columns:\n",
        "    training_data[column] = training_data[column].astype(str)\n",
        "    training_data[column] = label_encoder.fit_transform(training_data[column])"
      ]
    },
    {
      "cell_type": "markdown",
      "metadata": {
        "id": "Kd4ph9GRCv0j"
      },
      "source": [
        "**Seperating the data into features(X) and target variable(y)**\n",
        "\n",
        "\n"
      ]
    },
    {
      "cell_type": "code",
      "execution_count": 18,
      "metadata": {
        "id": "KASpJotCw5gG"
      },
      "outputs": [],
      "source": [
        "X = training_data.drop(columns=['overall'])\n",
        "y = training_data['overall']"
      ]
    },
    {
      "cell_type": "markdown",
      "metadata": {
        "id": "Mpkc453TBVJf"
      },
      "source": [
        "**Performing correlation to check the features with high correlation to the target variable**"
      ]
    },
    {
      "cell_type": "code",
      "execution_count": 19,
      "metadata": {
        "id": "3xvISfrN0ZAu"
      },
      "outputs": [],
      "source": [
        "corr = X.corrwith(y)\n",
        "sorted_corr = corr.abs().sort_values(ascending=False)\n",
        "corr_list = list(zip(sorted_corr.index, sorted_corr.tolist()))"
      ]
    },
    {
      "cell_type": "code",
      "execution_count": 20,
      "metadata": {
        "id": "alc1nQ6wH9uJ"
      },
      "outputs": [],
      "source": [
        "corr_df = pd.DataFrame(corr_list, columns=['Feature', 'Correlation'])"
      ]
    },
    {
      "cell_type": "code",
      "execution_count": 21,
      "metadata": {
        "colab": {
          "base_uri": "https://localhost:8080/",
          "height": 455
        },
        "id": "k8l7nN__Yese",
        "outputId": "46f250b4-768a-43b4-ba2d-0e885ac587c9"
      },
      "outputs": [
        {
          "output_type": "execute_result",
          "data": {
            "text/plain": [
              "           movement_reactions  potential    passing  wage_eur  \\\n",
              "player_id                                                       \n",
              "158023                   94.0       95.0  86.000000  550000.0   \n",
              "20801                    90.0       92.0  81.000000  375000.0   \n",
              "9014                     89.0       90.0  83.000000  275000.0   \n",
              "41236                    85.0       90.0  81.000000  275000.0   \n",
              "167495                   89.0       90.0  56.938175  300000.0   \n",
              "...                       ...        ...        ...       ...   \n",
              "269011                   39.0       61.0  40.000000     700.0   \n",
              "269019                   42.0       58.0  29.000000     750.0   \n",
              "271093                   50.0       58.0  43.000000     500.0   \n",
              "271555                   45.0       70.0  36.000000     500.0   \n",
              "271608                   40.0       63.0  26.000000     500.0   \n",
              "\n",
              "           mentality_composure    value_eur  dribbling  \n",
              "player_id                                               \n",
              "158023               57.816892  100500000.0  96.000000  \n",
              "20801                57.816892   79000000.0  91.000000  \n",
              "9014                 57.816892   54500000.0  92.000000  \n",
              "41236                57.816892   52500000.0  86.000000  \n",
              "167495               57.816892   63500000.0  62.081872  \n",
              "...                        ...          ...        ...  \n",
              "269011               40.000000     110000.0  47.000000  \n",
              "269019               35.000000     110000.0  34.000000  \n",
              "271093               35.000000     110000.0  46.000000  \n",
              "271555               43.000000     150000.0  46.000000  \n",
              "271608               30.000000     110000.0  32.000000  \n",
              "\n",
              "[161583 rows x 7 columns]"
            ],
            "text/html": [
              "\n",
              "  <div id=\"df-71a5fbdf-01ed-4db9-a8d5-518687e87619\" class=\"colab-df-container\">\n",
              "    <div>\n",
              "<style scoped>\n",
              "    .dataframe tbody tr th:only-of-type {\n",
              "        vertical-align: middle;\n",
              "    }\n",
              "\n",
              "    .dataframe tbody tr th {\n",
              "        vertical-align: top;\n",
              "    }\n",
              "\n",
              "    .dataframe thead th {\n",
              "        text-align: right;\n",
              "    }\n",
              "</style>\n",
              "<table border=\"1\" class=\"dataframe\">\n",
              "  <thead>\n",
              "    <tr style=\"text-align: right;\">\n",
              "      <th></th>\n",
              "      <th>movement_reactions</th>\n",
              "      <th>potential</th>\n",
              "      <th>passing</th>\n",
              "      <th>wage_eur</th>\n",
              "      <th>mentality_composure</th>\n",
              "      <th>value_eur</th>\n",
              "      <th>dribbling</th>\n",
              "    </tr>\n",
              "    <tr>\n",
              "      <th>player_id</th>\n",
              "      <th></th>\n",
              "      <th></th>\n",
              "      <th></th>\n",
              "      <th></th>\n",
              "      <th></th>\n",
              "      <th></th>\n",
              "      <th></th>\n",
              "    </tr>\n",
              "  </thead>\n",
              "  <tbody>\n",
              "    <tr>\n",
              "      <th>158023</th>\n",
              "      <td>94.0</td>\n",
              "      <td>95.0</td>\n",
              "      <td>86.000000</td>\n",
              "      <td>550000.0</td>\n",
              "      <td>57.816892</td>\n",
              "      <td>100500000.0</td>\n",
              "      <td>96.000000</td>\n",
              "    </tr>\n",
              "    <tr>\n",
              "      <th>20801</th>\n",
              "      <td>90.0</td>\n",
              "      <td>92.0</td>\n",
              "      <td>81.000000</td>\n",
              "      <td>375000.0</td>\n",
              "      <td>57.816892</td>\n",
              "      <td>79000000.0</td>\n",
              "      <td>91.000000</td>\n",
              "    </tr>\n",
              "    <tr>\n",
              "      <th>9014</th>\n",
              "      <td>89.0</td>\n",
              "      <td>90.0</td>\n",
              "      <td>83.000000</td>\n",
              "      <td>275000.0</td>\n",
              "      <td>57.816892</td>\n",
              "      <td>54500000.0</td>\n",
              "      <td>92.000000</td>\n",
              "    </tr>\n",
              "    <tr>\n",
              "      <th>41236</th>\n",
              "      <td>85.0</td>\n",
              "      <td>90.0</td>\n",
              "      <td>81.000000</td>\n",
              "      <td>275000.0</td>\n",
              "      <td>57.816892</td>\n",
              "      <td>52500000.0</td>\n",
              "      <td>86.000000</td>\n",
              "    </tr>\n",
              "    <tr>\n",
              "      <th>167495</th>\n",
              "      <td>89.0</td>\n",
              "      <td>90.0</td>\n",
              "      <td>56.938175</td>\n",
              "      <td>300000.0</td>\n",
              "      <td>57.816892</td>\n",
              "      <td>63500000.0</td>\n",
              "      <td>62.081872</td>\n",
              "    </tr>\n",
              "    <tr>\n",
              "      <th>...</th>\n",
              "      <td>...</td>\n",
              "      <td>...</td>\n",
              "      <td>...</td>\n",
              "      <td>...</td>\n",
              "      <td>...</td>\n",
              "      <td>...</td>\n",
              "      <td>...</td>\n",
              "    </tr>\n",
              "    <tr>\n",
              "      <th>269011</th>\n",
              "      <td>39.0</td>\n",
              "      <td>61.0</td>\n",
              "      <td>40.000000</td>\n",
              "      <td>700.0</td>\n",
              "      <td>40.000000</td>\n",
              "      <td>110000.0</td>\n",
              "      <td>47.000000</td>\n",
              "    </tr>\n",
              "    <tr>\n",
              "      <th>269019</th>\n",
              "      <td>42.0</td>\n",
              "      <td>58.0</td>\n",
              "      <td>29.000000</td>\n",
              "      <td>750.0</td>\n",
              "      <td>35.000000</td>\n",
              "      <td>110000.0</td>\n",
              "      <td>34.000000</td>\n",
              "    </tr>\n",
              "    <tr>\n",
              "      <th>271093</th>\n",
              "      <td>50.0</td>\n",
              "      <td>58.0</td>\n",
              "      <td>43.000000</td>\n",
              "      <td>500.0</td>\n",
              "      <td>35.000000</td>\n",
              "      <td>110000.0</td>\n",
              "      <td>46.000000</td>\n",
              "    </tr>\n",
              "    <tr>\n",
              "      <th>271555</th>\n",
              "      <td>45.0</td>\n",
              "      <td>70.0</td>\n",
              "      <td>36.000000</td>\n",
              "      <td>500.0</td>\n",
              "      <td>43.000000</td>\n",
              "      <td>150000.0</td>\n",
              "      <td>46.000000</td>\n",
              "    </tr>\n",
              "    <tr>\n",
              "      <th>271608</th>\n",
              "      <td>40.0</td>\n",
              "      <td>63.0</td>\n",
              "      <td>26.000000</td>\n",
              "      <td>500.0</td>\n",
              "      <td>30.000000</td>\n",
              "      <td>110000.0</td>\n",
              "      <td>32.000000</td>\n",
              "    </tr>\n",
              "  </tbody>\n",
              "</table>\n",
              "<p>161583 rows × 7 columns</p>\n",
              "</div>\n",
              "    <div class=\"colab-df-buttons\">\n",
              "\n",
              "  <div class=\"colab-df-container\">\n",
              "    <button class=\"colab-df-convert\" onclick=\"convertToInteractive('df-71a5fbdf-01ed-4db9-a8d5-518687e87619')\"\n",
              "            title=\"Convert this dataframe to an interactive table.\"\n",
              "            style=\"display:none;\">\n",
              "\n",
              "  <svg xmlns=\"http://www.w3.org/2000/svg\" height=\"24px\" viewBox=\"0 -960 960 960\">\n",
              "    <path d=\"M120-120v-720h720v720H120Zm60-500h600v-160H180v160Zm220 220h160v-160H400v160Zm0 220h160v-160H400v160ZM180-400h160v-160H180v160Zm440 0h160v-160H620v160ZM180-180h160v-160H180v160Zm440 0h160v-160H620v160Z\"/>\n",
              "  </svg>\n",
              "    </button>\n",
              "\n",
              "  <style>\n",
              "    .colab-df-container {\n",
              "      display:flex;\n",
              "      gap: 12px;\n",
              "    }\n",
              "\n",
              "    .colab-df-convert {\n",
              "      background-color: #E8F0FE;\n",
              "      border: none;\n",
              "      border-radius: 50%;\n",
              "      cursor: pointer;\n",
              "      display: none;\n",
              "      fill: #1967D2;\n",
              "      height: 32px;\n",
              "      padding: 0 0 0 0;\n",
              "      width: 32px;\n",
              "    }\n",
              "\n",
              "    .colab-df-convert:hover {\n",
              "      background-color: #E2EBFA;\n",
              "      box-shadow: 0px 1px 2px rgba(60, 64, 67, 0.3), 0px 1px 3px 1px rgba(60, 64, 67, 0.15);\n",
              "      fill: #174EA6;\n",
              "    }\n",
              "\n",
              "    .colab-df-buttons div {\n",
              "      margin-bottom: 4px;\n",
              "    }\n",
              "\n",
              "    [theme=dark] .colab-df-convert {\n",
              "      background-color: #3B4455;\n",
              "      fill: #D2E3FC;\n",
              "    }\n",
              "\n",
              "    [theme=dark] .colab-df-convert:hover {\n",
              "      background-color: #434B5C;\n",
              "      box-shadow: 0px 1px 3px 1px rgba(0, 0, 0, 0.15);\n",
              "      filter: drop-shadow(0px 1px 2px rgba(0, 0, 0, 0.3));\n",
              "      fill: #FFFFFF;\n",
              "    }\n",
              "  </style>\n",
              "\n",
              "    <script>\n",
              "      const buttonEl =\n",
              "        document.querySelector('#df-71a5fbdf-01ed-4db9-a8d5-518687e87619 button.colab-df-convert');\n",
              "      buttonEl.style.display =\n",
              "        google.colab.kernel.accessAllowed ? 'block' : 'none';\n",
              "\n",
              "      async function convertToInteractive(key) {\n",
              "        const element = document.querySelector('#df-71a5fbdf-01ed-4db9-a8d5-518687e87619');\n",
              "        const dataTable =\n",
              "          await google.colab.kernel.invokeFunction('convertToInteractive',\n",
              "                                                    [key], {});\n",
              "        if (!dataTable) return;\n",
              "\n",
              "        const docLinkHtml = 'Like what you see? Visit the ' +\n",
              "          '<a target=\"_blank\" href=https://colab.research.google.com/notebooks/data_table.ipynb>data table notebook</a>'\n",
              "          + ' to learn more about interactive tables.';\n",
              "        element.innerHTML = '';\n",
              "        dataTable['output_type'] = 'display_data';\n",
              "        await google.colab.output.renderOutput(dataTable, element);\n",
              "        const docLink = document.createElement('div');\n",
              "        docLink.innerHTML = docLinkHtml;\n",
              "        element.appendChild(docLink);\n",
              "      }\n",
              "    </script>\n",
              "  </div>\n",
              "\n",
              "\n",
              "<div id=\"df-bace0496-c66f-49d3-b6c2-36b9bf8e083b\">\n",
              "  <button class=\"colab-df-quickchart\" onclick=\"quickchart('df-bace0496-c66f-49d3-b6c2-36b9bf8e083b')\"\n",
              "            title=\"Suggest charts\"\n",
              "            style=\"display:none;\">\n",
              "\n",
              "<svg xmlns=\"http://www.w3.org/2000/svg\" height=\"24px\"viewBox=\"0 0 24 24\"\n",
              "     width=\"24px\">\n",
              "    <g>\n",
              "        <path d=\"M19 3H5c-1.1 0-2 .9-2 2v14c0 1.1.9 2 2 2h14c1.1 0 2-.9 2-2V5c0-1.1-.9-2-2-2zM9 17H7v-7h2v7zm4 0h-2V7h2v10zm4 0h-2v-4h2v4z\"/>\n",
              "    </g>\n",
              "</svg>\n",
              "  </button>\n",
              "\n",
              "<style>\n",
              "  .colab-df-quickchart {\n",
              "      --bg-color: #E8F0FE;\n",
              "      --fill-color: #1967D2;\n",
              "      --hover-bg-color: #E2EBFA;\n",
              "      --hover-fill-color: #174EA6;\n",
              "      --disabled-fill-color: #AAA;\n",
              "      --disabled-bg-color: #DDD;\n",
              "  }\n",
              "\n",
              "  [theme=dark] .colab-df-quickchart {\n",
              "      --bg-color: #3B4455;\n",
              "      --fill-color: #D2E3FC;\n",
              "      --hover-bg-color: #434B5C;\n",
              "      --hover-fill-color: #FFFFFF;\n",
              "      --disabled-bg-color: #3B4455;\n",
              "      --disabled-fill-color: #666;\n",
              "  }\n",
              "\n",
              "  .colab-df-quickchart {\n",
              "    background-color: var(--bg-color);\n",
              "    border: none;\n",
              "    border-radius: 50%;\n",
              "    cursor: pointer;\n",
              "    display: none;\n",
              "    fill: var(--fill-color);\n",
              "    height: 32px;\n",
              "    padding: 0;\n",
              "    width: 32px;\n",
              "  }\n",
              "\n",
              "  .colab-df-quickchart:hover {\n",
              "    background-color: var(--hover-bg-color);\n",
              "    box-shadow: 0 1px 2px rgba(60, 64, 67, 0.3), 0 1px 3px 1px rgba(60, 64, 67, 0.15);\n",
              "    fill: var(--button-hover-fill-color);\n",
              "  }\n",
              "\n",
              "  .colab-df-quickchart-complete:disabled,\n",
              "  .colab-df-quickchart-complete:disabled:hover {\n",
              "    background-color: var(--disabled-bg-color);\n",
              "    fill: var(--disabled-fill-color);\n",
              "    box-shadow: none;\n",
              "  }\n",
              "\n",
              "  .colab-df-spinner {\n",
              "    border: 2px solid var(--fill-color);\n",
              "    border-color: transparent;\n",
              "    border-bottom-color: var(--fill-color);\n",
              "    animation:\n",
              "      spin 1s steps(1) infinite;\n",
              "  }\n",
              "\n",
              "  @keyframes spin {\n",
              "    0% {\n",
              "      border-color: transparent;\n",
              "      border-bottom-color: var(--fill-color);\n",
              "      border-left-color: var(--fill-color);\n",
              "    }\n",
              "    20% {\n",
              "      border-color: transparent;\n",
              "      border-left-color: var(--fill-color);\n",
              "      border-top-color: var(--fill-color);\n",
              "    }\n",
              "    30% {\n",
              "      border-color: transparent;\n",
              "      border-left-color: var(--fill-color);\n",
              "      border-top-color: var(--fill-color);\n",
              "      border-right-color: var(--fill-color);\n",
              "    }\n",
              "    40% {\n",
              "      border-color: transparent;\n",
              "      border-right-color: var(--fill-color);\n",
              "      border-top-color: var(--fill-color);\n",
              "    }\n",
              "    60% {\n",
              "      border-color: transparent;\n",
              "      border-right-color: var(--fill-color);\n",
              "    }\n",
              "    80% {\n",
              "      border-color: transparent;\n",
              "      border-right-color: var(--fill-color);\n",
              "      border-bottom-color: var(--fill-color);\n",
              "    }\n",
              "    90% {\n",
              "      border-color: transparent;\n",
              "      border-bottom-color: var(--fill-color);\n",
              "    }\n",
              "  }\n",
              "</style>\n",
              "\n",
              "  <script>\n",
              "    async function quickchart(key) {\n",
              "      const quickchartButtonEl =\n",
              "        document.querySelector('#' + key + ' button');\n",
              "      quickchartButtonEl.disabled = true;  // To prevent multiple clicks.\n",
              "      quickchartButtonEl.classList.add('colab-df-spinner');\n",
              "      try {\n",
              "        const charts = await google.colab.kernel.invokeFunction(\n",
              "            'suggestCharts', [key], {});\n",
              "      } catch (error) {\n",
              "        console.error('Error during call to suggestCharts:', error);\n",
              "      }\n",
              "      quickchartButtonEl.classList.remove('colab-df-spinner');\n",
              "      quickchartButtonEl.classList.add('colab-df-quickchart-complete');\n",
              "    }\n",
              "    (() => {\n",
              "      let quickchartButtonEl =\n",
              "        document.querySelector('#df-bace0496-c66f-49d3-b6c2-36b9bf8e083b button');\n",
              "      quickchartButtonEl.style.display =\n",
              "        google.colab.kernel.accessAllowed ? 'block' : 'none';\n",
              "    })();\n",
              "  </script>\n",
              "</div>\n",
              "\n",
              "  <div id=\"id_8e78b6d2-18e6-4c46-a630-73e0d343540b\">\n",
              "    <style>\n",
              "      .colab-df-generate {\n",
              "        background-color: #E8F0FE;\n",
              "        border: none;\n",
              "        border-radius: 50%;\n",
              "        cursor: pointer;\n",
              "        display: none;\n",
              "        fill: #1967D2;\n",
              "        height: 32px;\n",
              "        padding: 0 0 0 0;\n",
              "        width: 32px;\n",
              "      }\n",
              "\n",
              "      .colab-df-generate:hover {\n",
              "        background-color: #E2EBFA;\n",
              "        box-shadow: 0px 1px 2px rgba(60, 64, 67, 0.3), 0px 1px 3px 1px rgba(60, 64, 67, 0.15);\n",
              "        fill: #174EA6;\n",
              "      }\n",
              "\n",
              "      [theme=dark] .colab-df-generate {\n",
              "        background-color: #3B4455;\n",
              "        fill: #D2E3FC;\n",
              "      }\n",
              "\n",
              "      [theme=dark] .colab-df-generate:hover {\n",
              "        background-color: #434B5C;\n",
              "        box-shadow: 0px 1px 3px 1px rgba(0, 0, 0, 0.15);\n",
              "        filter: drop-shadow(0px 1px 2px rgba(0, 0, 0, 0.3));\n",
              "        fill: #FFFFFF;\n",
              "      }\n",
              "    </style>\n",
              "    <button class=\"colab-df-generate\" onclick=\"generateWithVariable('X_subset')\"\n",
              "            title=\"Generate code using this dataframe.\"\n",
              "            style=\"display:none;\">\n",
              "\n",
              "  <svg xmlns=\"http://www.w3.org/2000/svg\" height=\"24px\"viewBox=\"0 0 24 24\"\n",
              "       width=\"24px\">\n",
              "    <path d=\"M7,19H8.4L18.45,9,17,7.55,7,17.6ZM5,21V16.75L18.45,3.32a2,2,0,0,1,2.83,0l1.4,1.43a1.91,1.91,0,0,1,.58,1.4,1.91,1.91,0,0,1-.58,1.4L9.25,21ZM18.45,9,17,7.55Zm-12,3A5.31,5.31,0,0,0,4.9,8.1,5.31,5.31,0,0,0,1,6.5,5.31,5.31,0,0,0,4.9,4.9,5.31,5.31,0,0,0,6.5,1,5.31,5.31,0,0,0,8.1,4.9,5.31,5.31,0,0,0,12,6.5,5.46,5.46,0,0,0,6.5,12Z\"/>\n",
              "  </svg>\n",
              "    </button>\n",
              "    <script>\n",
              "      (() => {\n",
              "      const buttonEl =\n",
              "        document.querySelector('#id_8e78b6d2-18e6-4c46-a630-73e0d343540b button.colab-df-generate');\n",
              "      buttonEl.style.display =\n",
              "        google.colab.kernel.accessAllowed ? 'block' : 'none';\n",
              "\n",
              "      buttonEl.onclick = () => {\n",
              "        google.colab.notebook.generateWithVariable('X_subset');\n",
              "      }\n",
              "      })();\n",
              "    </script>\n",
              "  </div>\n",
              "\n",
              "    </div>\n",
              "  </div>\n"
            ],
            "application/vnd.google.colaboratory.intrinsic+json": {
              "type": "dataframe",
              "variable_name": "X_subset"
            }
          },
          "metadata": {},
          "execution_count": 21
        }
      ],
      "source": [
        "top_features = corr_df.head(7)['Feature'].tolist()\n",
        "X_subset = X[top_features]\n",
        "X_subset"
      ]
    },
    {
      "cell_type": "markdown",
      "metadata": {
        "id": "D9RU9S5jOUpE"
      },
      "source": [
        "**Scaling the data**"
      ]
    },
    {
      "cell_type": "code",
      "execution_count": 22,
      "metadata": {
        "id": "rtfO4GOLNGJj"
      },
      "outputs": [],
      "source": [
        "scaler = StandardScaler()\n",
        "X_scaled = scaler.fit_transform(X)"
      ]
    },
    {
      "cell_type": "code",
      "execution_count": 23,
      "metadata": {
        "id": "4N0XuPhMWM3_"
      },
      "outputs": [],
      "source": [
        "X_subset_scaled = scaler.fit_transform(X_subset)"
      ]
    },
    {
      "cell_type": "markdown",
      "metadata": {
        "id": "Zqgf-zD8TUPX"
      },
      "source": [
        "**Dividing the data into training and testing sets for cross-validation**"
      ]
    },
    {
      "cell_type": "code",
      "execution_count": 24,
      "metadata": {
        "id": "yyFpG2PzWRcP"
      },
      "outputs": [],
      "source": [
        "X_train, X_test, y_train, y_test = train_test_split(X, y, test_size=0.2, random_state=42)"
      ]
    },
    {
      "cell_type": "markdown",
      "metadata": {
        "id": "Xk5i9vRFCO90"
      },
      "source": [
        "**Performing hyperparameter tuning/ evaluation of XGBoost Regressor model using Cross-Validation**"
      ]
    },
    {
      "cell_type": "code",
      "execution_count": 26,
      "metadata": {
        "colab": {
          "base_uri": "https://localhost:8080/"
        },
        "id": "iKcLy43FWZFE",
        "outputId": "538ae499-0179-49d5-f0df-d3417355e48f"
      },
      "outputs": [
        {
          "output_type": "stream",
          "name": "stdout",
          "text": [
            "Cross-Validation Mean Squared Error Scores for XGBoost: 0.7732190990952504\n",
            "Cross-Validation Mean Absolute Error Scores for XGBoost: 0.6390315325952097\n",
            "Cross-Validation R-squared Scores for XGBoost: 0.9843994366634271\n"
          ]
        }
      ],
      "source": [
        "from xgboost import XGBRegressor\n",
        "xgb_model = XGBRegressor(random_state=42)\n",
        "\n",
        "#Specifying the number of splits for the K-fold cross-validation\n",
        "no_of_splits = 3\n",
        "\n",
        "params = {'n_estimators': [10, 20, 30],'learning_rate': [0.1, 0.01, 0.001]}\n",
        "xgb_grid = GridSearchCV(xgb_model, params, cv = no_of_splits, scoring='neg_mean_absolute_error', n_jobs=-1)\n",
        "\n",
        "xgb_grid.fit(X_train, y_train)\n",
        "xgb_model = xgb_grid.best_estimator_\n",
        "\n",
        "y_pred = xgb_grid.predict(X_test)\n",
        "mse = mean_squared_error(y_test, y_pred)\n",
        "mae = mean_absolute_error(y_test, y_pred)\n",
        "r2 = r2_score(y_test, y_pred)\n",
        "\n",
        "\n",
        "print('Cross-Validation Mean Squared Error Scores for XGBoost:', mse)\n",
        "print('Cross-Validation Mean Absolute Error Scores for XGBoost:', mae)\n",
        "print('Cross-Validation R-squared Scores for XGBoost:', r2)"
      ]
    },
    {
      "cell_type": "markdown",
      "metadata": {
        "id": "s5D6wxMbDD3x"
      },
      "source": [
        "**Performing Hyperparameter tuning/ evaluation of RandomForestRegressor model using Cross-Validation** **bold text**"
      ]
    },
    {
      "cell_type": "code",
      "execution_count": 30,
      "metadata": {
        "colab": {
          "base_uri": "https://localhost:8080/"
        },
        "id": "0ExP5kIqjq-S",
        "outputId": "4a9ea0bf-3daa-4c9f-c6e6-0424ca91457b"
      },
      "outputs": [
        {
          "output_type": "stream",
          "name": "stdout",
          "text": [
            "Cross-Validation Mean Squared Error Scores for RandomForestRegressor: 0.24943889641816144\n",
            "Cross-Validation Mean Absolute Error Scores for RandomForestRegressor: 0.28179449568523623\n",
            "Cross-Validation R-squared Scores for RandomForestRegressor: 0.9949672902457664\n"
          ]
        }
      ],
      "source": [
        "from sklearn.ensemble import RandomForestRegressor\n",
        "rfr_model = RandomForestRegressor(random_state=42)\n",
        "\n",
        "#Specifying the number of splits for the K-fold cross validation\n",
        "no_of_splits = 3\n",
        "\n",
        "\n",
        "params = {'n_estimators': [10, 20, 30],'max_depth':[10,30,40]}\n",
        "rfr_grid = GridSearchCV(rfr_model, params, cv = no_of_splits, scoring='neg_mean_absolute_error', n_jobs=-1)\n",
        "\n",
        "rfr_grid.fit(X_train, y_train)\n",
        "rfr_model = rfr_grid.best_estimator_\n",
        "\n",
        "y_pred = rfr_grid.predict(X_test)\n",
        "mse = mean_squared_error(y_test, y_pred)\n",
        "mae = mean_absolute_error(y_test, y_pred)\n",
        "r2 = r2_score(y_test, y_pred)\n",
        "\n",
        "\n",
        "print('Cross-Validation Mean Squared Error Scores for RandomForestRegressor:', mse)\n",
        "print('Cross-Validation Mean Absolute Error Scores for RandomForestRegressor:', mae)\n",
        "print('Cross-Validation R-squared Scores for RandomForestRegressor:', r2)"
      ]
    },
    {
      "cell_type": "markdown",
      "metadata": {
        "id": "lAShfqyMuI6b"
      },
      "source": []
    },
    {
      "cell_type": "code",
      "execution_count": 28,
      "metadata": {
        "colab": {
          "base_uri": "https://localhost:8080/"
        },
        "id": "hTsRDGbNbdsD",
        "outputId": "85b233ca-2fb5-4f94-b20e-9d56258c1065"
      },
      "outputs": [
        {
          "output_type": "stream",
          "name": "stdout",
          "text": [
            "Cross-Validation Mean Squared Error Scores for GradientBoostRegressor: 2.095194130229662\n",
            "Cross-Validation Mean Absolute Error Scores for GradientBoostRegressor: 1.05838765079411\n",
            "Cross-Validation R-squared Scores for GradientBoostRegressor: 0.9577271063669922\n"
          ]
        }
      ],
      "source": [
        "from sklearn.ensemble import GradientBoostingRegressor\n",
        "gbr_model = GradientBoostingRegressor(random_state=42)\n",
        "\n",
        "#Specifying the number of splits for the K-fold cross validation\n",
        "no_of_splits = 3\n",
        "\n",
        "\n",
        "params = {'n_estimators': [10, 20, 30],'learning_rate': [0.1, 0.01, 0.001]}\n",
        "gbr_grid = GridSearchCV(gbr_model, params, cv = no_of_splits, scoring='neg_mean_absolute_error', n_jobs=-1)\n",
        "\n",
        "gbr_grid.fit(X_train, y_train)\n",
        "gbr_model = gbr_grid.best_estimator_\n",
        "\n",
        "y_pred = gbr_grid.predict(X_test)\n",
        "mse = mean_squared_error(y_test, y_pred)\n",
        "mae = mean_absolute_error(y_test, y_pred)\n",
        "r2 = r2_score(y_test, y_pred)\n",
        "\n",
        "\n",
        "print('Cross-Validation Mean Squared Error Scores for GradientBoostRegressor:', mse)\n",
        "print('Cross-Validation Mean Absolute Error Scores for GradientBoostRegressor:', mae)\n",
        "print('Cross-Validation R-squared Scores for GradientBoostRegressor:', r2)"
      ]
    },
    {
      "cell_type": "code",
      "execution_count": 32,
      "metadata": {
        "id": "2zAH9xaI0fiN",
        "colab": {
          "base_uri": "https://localhost:8080/"
        },
        "outputId": "1e5d71bc-cbf8-4971-f094-ffa2678cc768"
      },
      "outputs": [
        {
          "output_type": "execute_result",
          "data": {
            "text/plain": [
              "['Player Ratings.pkl']"
            ]
          },
          "metadata": {},
          "execution_count": 32
        }
      ],
      "source": [
        "import joblib\n",
        "\n",
        "#Saving the trained model\n",
        "joblib.dump(rfr_model, 'Player Ratings.pkl')"
      ]
    },
    {
      "cell_type": "code",
      "source": [
        "#Saving the scaler\n",
        "joblib.dump(scaler, 'scaler.pkl')"
      ],
      "metadata": {
        "colab": {
          "base_uri": "https://localhost:8080/"
        },
        "id": "uQbs5rlU3nL1",
        "outputId": "02d0a105-1ece-475a-e412-3068627b6e5a"
      },
      "execution_count": 33,
      "outputs": [
        {
          "output_type": "execute_result",
          "data": {
            "text/plain": [
              "['scaler.pkl']"
            ]
          },
          "metadata": {},
          "execution_count": 33
        }
      ]
    },
    {
      "cell_type": "markdown",
      "metadata": {
        "id": "jyOEufwyXcqt"
      },
      "source": [
        "**Loading of the players_22-1 dataset**"
      ]
    },
    {
      "cell_type": "code",
      "execution_count": 34,
      "metadata": {
        "colab": {
          "base_uri": "https://localhost:8080/"
        },
        "id": "drJJTRrlgroA",
        "outputId": "c8713d91-4d5f-4e9f-9efe-4de7192eae30"
      },
      "outputs": [
        {
          "output_type": "stream",
          "name": "stderr",
          "text": [
            "<ipython-input-34-aa5e2646a815>:1: DtypeWarning: Columns (25,108) have mixed types. Specify dtype option on import or set low_memory=False.\n",
            "  testing_data = pd.read_csv(\"/content/drive/MyDrive/players_22-1.csv\",)\n"
          ]
        }
      ],
      "source": [
        "testing_data = pd.read_csv(\"/content/drive/MyDrive/players_22-1.csv\",)"
      ]
    },
    {
      "cell_type": "code",
      "execution_count": 35,
      "metadata": {
        "colab": {
          "base_uri": "https://localhost:8080/"
        },
        "id": "EVwRaEO2umAb",
        "outputId": "ed775b21-cfca-449d-fe02-33c82c10c8ee"
      },
      "outputs": [
        {
          "output_type": "stream",
          "name": "stdout",
          "text": [
            "<class 'pandas.core.frame.DataFrame'>\n",
            "RangeIndex: 19239 entries, 0 to 19238\n",
            "Columns: 110 entries, sofifa_id to nation_flag_url\n",
            "dtypes: float64(16), int64(44), object(50)\n",
            "memory usage: 16.1+ MB\n"
          ]
        }
      ],
      "source": [
        "testing_data.info()"
      ]
    },
    {
      "cell_type": "markdown",
      "metadata": {
        "id": "XoYqoN5GZUu_"
      },
      "source": [
        "**Dropping unneccessary columns**"
      ]
    },
    {
      "cell_type": "code",
      "execution_count": 36,
      "metadata": {
        "id": "LDK0GtdrvicL"
      },
      "outputs": [],
      "source": [
        "columns_to_drop = ['player_url','player_face_url','club_logo_url','club_flag_url','nation_logo_url','nation_flag_url']\n",
        "testing_data = testing_data.drop(columns_to_drop, axis=1 )"
      ]
    },
    {
      "cell_type": "code",
      "execution_count": 37,
      "metadata": {
        "id": "cVuOxkXO0gD0"
      },
      "outputs": [],
      "source": [
        "#Dropping columns with more than 30% of their data missing\n",
        "missing_percentage_test = testing_data.isnull().sum() / len(testing_data) * 100\n",
        "columns_to_drop_testing_data = missing_percentage_test[missing_percentage_test > 30].index\n",
        "testing_data.drop(columns_to_drop_testing_data, axis=1, inplace=True)"
      ]
    },
    {
      "cell_type": "code",
      "execution_count": 38,
      "metadata": {
        "colab": {
          "base_uri": "https://localhost:8080/"
        },
        "id": "zDx8HDEj0f4w",
        "outputId": "5f8d82bd-3d0d-4017-f782-1ff98983ae66"
      },
      "outputs": [
        {
          "output_type": "execute_result",
          "data": {
            "text/plain": [
              "Index(['club_loaned_from', 'nation_team_id', 'nation_position',\n",
              "       'nation_jersey_number', 'player_tags', 'player_traits',\n",
              "       'goalkeeping_speed'],\n",
              "      dtype='object')"
            ]
          },
          "metadata": {},
          "execution_count": 38
        }
      ],
      "source": [
        "columns_to_drop_testing_data"
      ]
    },
    {
      "cell_type": "markdown",
      "metadata": {
        "id": "hVIFFXoR1_4l"
      },
      "source": [
        "**Separating the testing dataset into numeric and categorical features**\n",
        "\n",
        "---\n",
        "\n"
      ]
    },
    {
      "cell_type": "code",
      "execution_count": 42,
      "metadata": {
        "id": "nvRf6-Fx0flK"
      },
      "outputs": [],
      "source": [
        "numeric_features_testing_data = testing_data.select_dtypes(include=['number'])\n",
        "categorical_features_testing_data = testing_data.select_dtypes(exclude=['number'])"
      ]
    },
    {
      "cell_type": "markdown",
      "metadata": {
        "id": "FDF6OzB_2y_C"
      },
      "source": [
        "**Imputing the missing features of the testing dataset.**"
      ]
    },
    {
      "cell_type": "code",
      "execution_count": 43,
      "metadata": {
        "id": "1QEfpNSy0eD9"
      },
      "outputs": [],
      "source": [
        "numeric_imputer = SimpleImputer(strategy='mean')\n",
        "testing_data[numeric_features_testing_data.columns] = numeric_imputer.fit_transform(testing_data[numeric_features_testing_data.columns])\n",
        "\n",
        "categorical_imputer = SimpleImputer(strategy='most_frequent')\n",
        "testing_data[categorical_features_testing_data.columns] = categorical_imputer.fit_transform(testing_data[categorical_features_testing_data.columns])"
      ]
    },
    {
      "cell_type": "code",
      "execution_count": 44,
      "metadata": {
        "id": "VooGr9PNZjRT"
      },
      "outputs": [],
      "source": [
        "#testing_data[categorical_features_testing_data.columns] = pd.DataFrame(training_data[categorical_features_training_data.columns], columns=training_data.columns)\n",
        "#testing_data[categorical_features_testing_data.columns] = pd.DataFrame(training_data[categorical_features_training_data.columns],\n",
        "                                                                     # columns=categorical_features_testing_data.columns)\n",
        "\n",
        "testing_data = testing_data.reset_index(drop=True)\n",
        "training_data = training_data.reset_index(drop=True)\n",
        "\n",
        "# Now perform the column replacement\n",
        "testing_data[categorical_features_testing_data.columns] = pd.DataFrame(training_data[categorical_features_training_data.columns],\n",
        "                                                                      columns=categorical_features_testing_data.columns)\n"
      ]
    },
    {
      "cell_type": "markdown",
      "metadata": {
        "id": "qWq1is5p3Htj"
      },
      "source": [
        "**Encoding the Categorical Features with LabelEncoder**"
      ]
    },
    {
      "cell_type": "code",
      "execution_count": 45,
      "metadata": {
        "id": "Ls7Mbx0Z3CBW"
      },
      "outputs": [],
      "source": [
        "label_encoder = LabelEncoder()\n",
        "for column in categorical_features_testing_data.columns:\n",
        "    testing_data[column] = testing_data[column].astype(str)\n",
        "    testing_data[column] = label_encoder.fit_transform(testing_data[column])\n"
      ]
    },
    {
      "cell_type": "code",
      "execution_count": 46,
      "metadata": {
        "id": "7I1f_PsQ6qmC"
      },
      "outputs": [],
      "source": [
        "X_players22 = testing_data.drop(columns=['overall'])\n",
        "y_players22 = testing_data['overall']"
      ]
    },
    {
      "cell_type": "code",
      "execution_count": 47,
      "metadata": {
        "colab": {
          "base_uri": "https://localhost:8080/"
        },
        "id": "xcjYJ8W5cq5G",
        "outputId": "0ec1b306-c7af-425a-ce36-3ab6da50bc61"
      },
      "outputs": [
        {
          "output_type": "stream",
          "name": "stdout",
          "text": [
            "<class 'pandas.core.frame.DataFrame'>\n",
            "RangeIndex: 19239 entries, 0 to 19238\n",
            "Data columns (total 96 columns):\n",
            " #   Column                       Non-Null Count  Dtype  \n",
            "---  ------                       --------------  -----  \n",
            " 0   sofifa_id                    19239 non-null  float64\n",
            " 1   short_name                   19239 non-null  int64  \n",
            " 2   long_name                    19239 non-null  int64  \n",
            " 3   player_positions             19239 non-null  int64  \n",
            " 4   potential                    19239 non-null  float64\n",
            " 5   value_eur                    19239 non-null  float64\n",
            " 6   wage_eur                     19239 non-null  float64\n",
            " 7   age                          19239 non-null  float64\n",
            " 8   dob                          19239 non-null  int64  \n",
            " 9   height_cm                    19239 non-null  float64\n",
            " 10  weight_kg                    19239 non-null  float64\n",
            " 11  club_team_id                 19239 non-null  float64\n",
            " 12  club_name                    19239 non-null  int64  \n",
            " 13  league_name                  19239 non-null  int64  \n",
            " 14  league_level                 19239 non-null  float64\n",
            " 15  club_position                19239 non-null  int64  \n",
            " 16  club_jersey_number           19239 non-null  float64\n",
            " 17  club_joined                  19239 non-null  int64  \n",
            " 18  club_contract_valid_until    19239 non-null  float64\n",
            " 19  nationality_id               19239 non-null  float64\n",
            " 20  nationality_name             19239 non-null  int64  \n",
            " 21  preferred_foot               19239 non-null  int64  \n",
            " 22  weak_foot                    19239 non-null  float64\n",
            " 23  skill_moves                  19239 non-null  float64\n",
            " 24  international_reputation     19239 non-null  float64\n",
            " 25  work_rate                    19239 non-null  int64  \n",
            " 26  body_type                    19239 non-null  int64  \n",
            " 27  real_face                    19239 non-null  int64  \n",
            " 28  release_clause_eur           19239 non-null  float64\n",
            " 29  pace                         19239 non-null  float64\n",
            " 30  shooting                     19239 non-null  float64\n",
            " 31  passing                      19239 non-null  float64\n",
            " 32  dribbling                    19239 non-null  float64\n",
            " 33  defending                    19239 non-null  float64\n",
            " 34  physic                       19239 non-null  float64\n",
            " 35  attacking_crossing           19239 non-null  float64\n",
            " 36  attacking_finishing          19239 non-null  float64\n",
            " 37  attacking_heading_accuracy   19239 non-null  float64\n",
            " 38  attacking_short_passing      19239 non-null  float64\n",
            " 39  attacking_volleys            19239 non-null  float64\n",
            " 40  skill_dribbling              19239 non-null  float64\n",
            " 41  skill_curve                  19239 non-null  float64\n",
            " 42  skill_fk_accuracy            19239 non-null  float64\n",
            " 43  skill_long_passing           19239 non-null  float64\n",
            " 44  skill_ball_control           19239 non-null  float64\n",
            " 45  movement_acceleration        19239 non-null  float64\n",
            " 46  movement_sprint_speed        19239 non-null  float64\n",
            " 47  movement_agility             19239 non-null  float64\n",
            " 48  movement_reactions           19239 non-null  float64\n",
            " 49  movement_balance             19239 non-null  float64\n",
            " 50  power_shot_power             19239 non-null  float64\n",
            " 51  power_jumping                19239 non-null  float64\n",
            " 52  power_stamina                19239 non-null  float64\n",
            " 53  power_strength               19239 non-null  float64\n",
            " 54  power_long_shots             19239 non-null  float64\n",
            " 55  mentality_aggression         19239 non-null  float64\n",
            " 56  mentality_interceptions      19239 non-null  float64\n",
            " 57  mentality_positioning        19239 non-null  float64\n",
            " 58  mentality_vision             19239 non-null  float64\n",
            " 59  mentality_penalties          19239 non-null  float64\n",
            " 60  mentality_composure          19239 non-null  float64\n",
            " 61  defending_marking_awareness  19239 non-null  float64\n",
            " 62  defending_standing_tackle    19239 non-null  float64\n",
            " 63  defending_sliding_tackle     19239 non-null  float64\n",
            " 64  goalkeeping_diving           19239 non-null  float64\n",
            " 65  goalkeeping_handling         19239 non-null  float64\n",
            " 66  goalkeeping_kicking          19239 non-null  float64\n",
            " 67  goalkeeping_positioning      19239 non-null  float64\n",
            " 68  goalkeeping_reflexes         19239 non-null  float64\n",
            " 69  ls                           19239 non-null  int64  \n",
            " 70  st                           19239 non-null  int64  \n",
            " 71  rs                           19239 non-null  int64  \n",
            " 72  lw                           19239 non-null  int64  \n",
            " 73  lf                           19239 non-null  int64  \n",
            " 74  cf                           19239 non-null  int64  \n",
            " 75  rf                           19239 non-null  int64  \n",
            " 76  rw                           19239 non-null  int64  \n",
            " 77  lam                          19239 non-null  int64  \n",
            " 78  cam                          19239 non-null  int64  \n",
            " 79  ram                          19239 non-null  int64  \n",
            " 80  lm                           19239 non-null  int64  \n",
            " 81  lcm                          19239 non-null  int64  \n",
            " 82  cm                           19239 non-null  int64  \n",
            " 83  rcm                          19239 non-null  int64  \n",
            " 84  rm                           19239 non-null  int64  \n",
            " 85  lwb                          19239 non-null  int64  \n",
            " 86  ldm                          19239 non-null  int64  \n",
            " 87  cdm                          19239 non-null  int64  \n",
            " 88  rdm                          19239 non-null  int64  \n",
            " 89  rwb                          19239 non-null  int64  \n",
            " 90  lb                           19239 non-null  int64  \n",
            " 91  lcb                          19239 non-null  int64  \n",
            " 92  cb                           19239 non-null  int64  \n",
            " 93  rcb                          19239 non-null  int64  \n",
            " 94  rb                           19239 non-null  int64  \n",
            " 95  gk                           19239 non-null  int64  \n",
            "dtypes: float64(56), int64(40)\n",
            "memory usage: 14.1 MB\n"
          ]
        }
      ],
      "source": [
        "X_players22.info()"
      ]
    },
    {
      "cell_type": "code",
      "execution_count": 48,
      "metadata": {
        "id": "uyLZajoGejzw"
      },
      "outputs": [],
      "source": [
        "fitted_feature_names = rfr_grid.feature_names_in_\n",
        "\n",
        "# Check the current feature names in X_players22\n",
        "current_feature_names = X_players22.columns\n",
        "\n",
        "# Rename columns in X_players22 if necessary\n",
        "X_players22 = X_players22.rename(columns={\n",
        "    'sofifa_id': 'league_id',\n",
        "    'club_joined': 'club_joined_date',\n",
        "    'club_contract_valid_until': 'club_contract_valid_until_year',\n",
        "    'release_clause_eur': 'fifa_update'\n",
        "})\n",
        "\n",
        "# Add missing columns with default values (e.g., NaN or a suitable default)\n",
        "for feature in fitted_feature_names:\n",
        "    if feature not in X_players22.columns:\n",
        "        X_players22[feature] = pd.NA  # or an appropriate default value\n",
        "\n",
        "# Reorder columns to match the fitted feature names\n",
        "X_players22 = X_players22[fitted_feature_names]\n",
        "\n",
        "# Ensure there are no extra columns\n",
        "X_players22 = X_players22.loc[:, fitted_feature_names]\n",
        "\n",
        "# Now, predict\n",
        "y_pred_players22 = rfr_grid.predict(X_players22)\n"
      ]
    },
    {
      "cell_type": "markdown",
      "source": [
        "***The RandomForestRegressor model was chosen as the best model since compared to the other models, it had the lowest Mean Absolute Score. ***"
      ],
      "metadata": {
        "id": "RPfC4PHJ6hN9"
      }
    },
    {
      "cell_type": "markdown",
      "metadata": {
        "id": "f5alQ_zIlBYw"
      },
      "source": [
        "**Saving the y_test and y_pred values in a CSV file**"
      ]
    },
    {
      "cell_type": "code",
      "execution_count": 49,
      "metadata": {
        "id": "Dn8eFBuskaGL"
      },
      "outputs": [],
      "source": [
        "data = {'y_test': y_players22, 'y_pred': y_pred_players22}\n",
        "new_df = pd.DataFrame(data)\n",
        "new_df.to_csv('y_test_and_y_pred.csv', index=False)"
      ]
    },
    {
      "cell_type": "markdown",
      "metadata": {
        "id": "EYM3-hCGmIym"
      },
      "source": [
        "**Evaluating the model's performance on the player_22 dataset with metrics such as MSE, MAE and R squared scores**"
      ]
    },
    {
      "cell_type": "code",
      "execution_count": 50,
      "metadata": {
        "colab": {
          "base_uri": "https://localhost:8080/"
        },
        "id": "F0bEpsTolOWg",
        "outputId": "a4085896-0abf-402b-e9c7-fe1bc67c45b5"
      },
      "outputs": [
        {
          "output_type": "stream",
          "name": "stdout",
          "text": [
            "Mean Squared Error for Players_22 dataset: 12.26564146874013\n",
            "Mean Absolute Error for Players_22 dataset: 2.5475706336721538\n",
            "R-squared score for Players_22 dataset: 0.7408765383785201\n"
          ]
        }
      ],
      "source": [
        "mse_players22 = mean_squared_error(y_players22, y_pred_players22)\n",
        "mae_players22 = mean_absolute_error(y_players22, y_pred_players22)\n",
        "r2_players22 = r2_score(y_players22, y_pred_players22)\n",
        "print('Mean Squared Error for Players_22 dataset:', mse_players22)\n",
        "print('Mean Absolute Error for Players_22 dataset:', mae_players22)\n",
        "print('R-squared score for Players_22 dataset:', r2_players22)\n"
      ]
    },
    {
      "cell_type": "code",
      "execution_count": null,
      "metadata": {
        "id": "8330Ls8Bd5Qd"
      },
      "outputs": [],
      "source": []
    }
  ],
  "metadata": {
    "accelerator": "GPU",
    "colab": {
      "gpuType": "T4",
      "provenance": []
    },
    "kernelspec": {
      "display_name": "Python 3",
      "name": "python3"
    },
    "language_info": {
      "name": "python"
    }
  },
  "nbformat": 4,
  "nbformat_minor": 0
}